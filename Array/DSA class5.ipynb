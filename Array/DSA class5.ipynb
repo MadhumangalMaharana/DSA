{
 "cells": [
  {
   "cell_type": "code",
   "execution_count": 5,
   "id": "5a49d12f-7cff-4bae-92b5-71772ded1ed6",
   "metadata": {},
   "outputs": [
    {
     "name": "stdout",
     "output_type": "stream",
     "text": [
      "searching element is present at index: 5\n"
     ]
    }
   ],
   "source": [
    "#function deffination\n",
    "#time complexity: O(n)\n",
    "#space complexity: O(1)\n",
    "def linearSearch(arr,x):\n",
    "    for i in range(len(arr)):\n",
    "        if arr[i]==x:\n",
    "            return i\n",
    "    return -1\n",
    "#driver Code\n",
    "arr=[20,45,27,47,55,67,75,88,90]\n",
    "x=67\n",
    "#fuction calling\n",
    "result=linearSearch(arr,x)\n",
    "print(\"searching element is present at index:\",result)"
   ]
  },
  {
   "cell_type": "code",
   "execution_count": 17,
   "id": "3fe8e5b8-a882-42cd-b343-16f0fb6233af",
   "metadata": {},
   "outputs": [
    {
     "name": "stdout",
     "output_type": "stream",
     "text": [
      "Serhing Element is present at the location: 7\n"
     ]
    }
   ],
   "source": [
    "#binary search Alogorithm using recursion\n",
    "#function defination\n",
    "def binarySearch(arr,x,i,j):\n",
    "    while i<=j:\n",
    "        mid=i + (j-i)//2\n",
    "        if arr[mid] == x:\n",
    "            return mid\n",
    "        elif arr[mid] < x:\n",
    "            #right side of the mid\n",
    "            #search space- mid+1 to j\n",
    "            #recursion calling - calling the same function again inside the method defination\n",
    "            return binarySearch(arr, x, mid+1, j)\n",
    "        else :\n",
    "            #left side of the mid\n",
    "            #search space- i to mid-1\n",
    "            return binarySearch(arr, x, i, mid-1)\n",
    "    #searching element is not present in an array\n",
    "    return-1\n",
    "\n",
    "##Driver Code\n",
    "arr=[20,45,27,47,55,67,75,88,90]\n",
    "x=88\n",
    "i=0\n",
    "j=len(arr) - 1\n",
    "\n",
    "#function calling\n",
    "result= binarySearch(arr,x,i,j)\n",
    "print(\"Serhing Element is present at the location:\",result)\n"
   ]
  },
  {
   "cell_type": "code",
   "execution_count": null,
   "id": "27fea818-ee60-42a2-a2ad-203eb09ffd7a",
   "metadata": {},
   "outputs": [],
   "source": []
  },
  {
   "cell_type": "code",
   "execution_count": 19,
   "id": "c70346d0-2763-4fad-bc55-03a9bbeaeb90",
   "metadata": {},
   "outputs": [
    {
     "name": "stdout",
     "output_type": "stream",
     "text": [
      "Serhing Element is present at the location: 5\n"
     ]
    }
   ],
   "source": [
    "#binary search Alogorithm without using recursion(iterative)\n",
    "#function defination\n",
    "def binarySearch(arr,x,i,j):\n",
    "    while i<=j:\n",
    "        #// for lower bound division\n",
    "        mid=i + (j-i)//2\n",
    "        if arr[mid] == x:\n",
    "            return mid\n",
    "        elif arr[mid] < x:\n",
    "            #right side of the mid\n",
    "            #search space- mid+1 to j\n",
    "            i=mid+1\n",
    "        else :\n",
    "            #left side of the mid\n",
    "            #search space- i to mid-1\n",
    "            j=mid-1\n",
    "    #searching element is not present in an array\n",
    "    return-1\n",
    "\n",
    "##Driver Code\n",
    "arr=[20,45,27,47,55,67,75,88,90]\n",
    "x=67\n",
    "i=0\n",
    "j=len(arr) - 1\n",
    "\n",
    "#function calling\n",
    "result= binarySearch(arr,x,i,j)\n",
    "print(\"Serhing Element is present at the location:\",result)\n"
   ]
  },
  {
   "cell_type": "code",
   "execution_count": null,
   "id": "77e67a85-0874-4c57-81b4-763e1176a2ed",
   "metadata": {},
   "outputs": [],
   "source": []
  }
 ],
 "metadata": {
  "kernelspec": {
   "display_name": "Python [conda env:base] *",
   "language": "python",
   "name": "conda-base-py"
  },
  "language_info": {
   "codemirror_mode": {
    "name": "ipython",
    "version": 3
   },
   "file_extension": ".py",
   "mimetype": "text/x-python",
   "name": "python",
   "nbconvert_exporter": "python",
   "pygments_lexer": "ipython3",
   "version": "3.12.7"
  }
 },
 "nbformat": 4,
 "nbformat_minor": 5
}
